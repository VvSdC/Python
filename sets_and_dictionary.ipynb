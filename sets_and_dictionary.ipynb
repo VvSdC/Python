{
 "cells": [
  {
   "cell_type": "markdown",
   "metadata": {},
   "source": [
    "### Sets\n",
    "Python sets are used to store unique elements. Sets look like lists but do not allow duplicate elements. <br>\n",
    "Sets also support mathematical operations like union, difference and intersection."
   ]
  },
  {
   "cell_type": "code",
   "execution_count": null,
   "metadata": {},
   "outputs": [
    {
     "name": "stdout",
     "output_type": "stream",
     "text": [
      "Before adding another carrot : {'Carrot', 'Cauliflower', 'Chilly'}\n",
      "After adding another carrot : {'Carrot', 'Cauliflower', 'Chilly'}\n"
     ]
    }
   ],
   "source": [
    "# Observe that set stores elements in ascending order\n",
    "\n",
    "my_veg = {\"Cauliflower\",\"Carrot\",\"Chilly\"}\n",
    "print(f\"Before adding another carrot : {my_veg}\")\n",
    "\n",
    "my_veg.add(\"Carrot\")\n",
    "print(f\"After adding another carrot : {my_veg}\")"
   ]
  },
  {
   "cell_type": "code",
   "execution_count": 6,
   "metadata": {},
   "outputs": [
    {
     "name": "stdout",
     "output_type": "stream",
     "text": [
      "Before deleting Banana : {'Banana', 'Apple', 'Guava'}\n",
      "After discarding Banana : {'Apple', 'Guava'}\n"
     ]
    }
   ],
   "source": [
    "# Discard method\n",
    "\n",
    "my_fruits = {\"Guava\",\"Apple\",\"Banana\"}\n",
    "print(f\"Before deleting Banana : {my_fruits}\")\n",
    "\n",
    "my_fruits.discard(\"Banana\")\n",
    "print(f\"After discarding Banana : {my_fruits}\")"
   ]
  },
  {
   "cell_type": "code",
   "execution_count": 11,
   "metadata": {},
   "outputs": [
    {
     "name": "stdout",
     "output_type": "stream",
     "text": [
      "Set before popping out an element : {'Vummethala', 'Charan', 'Venkata', 'Datta'}\n",
      "Set after popping out : {'Charan', 'Venkata', 'Datta'}\n",
      "Popped out element is : Vummethala\n",
      "\n",
      "The set is empty\n"
     ]
    }
   ],
   "source": [
    "# Pop method\n",
    "# Removes and returns a random set element\n",
    "\n",
    "my_names = {\"Vummethala\",\"Charan\",\"Venkata\",\"Datta\"}\n",
    "print(f\"Set before popping out an element : {my_names}\")\n",
    "\n",
    "name_popped_out = my_names.pop()\n",
    "print(f\"Set after popping out : {my_names}\")\n",
    "print(f\"Popped out element is : {name_popped_out}\\n\")\n",
    "\n",
    "empty_set = set()\n",
    "try:\n",
    "    popped_element = empty_set.pop()\n",
    "    print(f\"Successfully popped out the element : {popped_element}\")\n",
    "except KeyError:\n",
    "    print(\"The set is empty\")"
   ]
  },
  {
   "cell_type": "code",
   "execution_count": 13,
   "metadata": {},
   "outputs": [
    {
     "name": "stdout",
     "output_type": "stream",
     "text": [
      "Before clearing elements : {'Vummethala', 'Charan', 'Venkata'}\n",
      "After clearing the set : set()\n"
     ]
    }
   ],
   "source": [
    "# Clear method\n",
    "# Empty set is printed as set()\n",
    "\n",
    "my_set = {'Vummethala','Charan','Venkata'}\n",
    "print(f\"Before clearing elements : {my_set}\")\n",
    "my_set.clear()\n",
    "print(f\"After clearing the set : {my_set}\")"
   ]
  },
  {
   "cell_type": "code",
   "execution_count": 14,
   "metadata": {},
   "outputs": [
    {
     "name": "stdout",
     "output_type": "stream",
     "text": [
      "{'Vummethala', 'Venkata', 'Sri'} Union {'Datta', 'Charan', 'Sri'} = {'Datta', 'Charan', 'Sri', 'Vummethala', 'Venkata'}\n"
     ]
    }
   ],
   "source": [
    "# Union\n",
    "\n",
    "set1 = {\"Vummethala\",\"Venkata\",\"Sri\"}\n",
    "set2 = {\"Sri\",\"Datta\",\"Charan\"}\n",
    "set3 = set1.union(set2)\n",
    "print(f\"{set1} Union {set2} = {set3}\")"
   ]
  },
  {
   "cell_type": "code",
   "execution_count": 15,
   "metadata": {},
   "outputs": [
    {
     "name": "stdout",
     "output_type": "stream",
     "text": [
      "{'Vummethala', 'Venkata', 'Sri'} Intersection {'Datta', 'Charan', 'Sri'} = {'Sri'}\n"
     ]
    }
   ],
   "source": [
    "# Intersection\n",
    "\n",
    "set1 = {\"Vummethala\",\"Venkata\",\"Sri\"}\n",
    "set2 = {\"Sri\",\"Datta\",\"Charan\"}\n",
    "set3 = set1.intersection(set2)\n",
    "\n",
    "print(f\"{set1} Intersection {set2} = {set3}\")"
   ]
  },
  {
   "cell_type": "code",
   "execution_count": 16,
   "metadata": {},
   "outputs": [
    {
     "name": "stdout",
     "output_type": "stream",
     "text": [
      "{'Vummethala', 'Venkata', 'Sri'} Minus {'Datta', 'Charan', 'Sri'} = {'Vummethala', 'Venkata'}\n"
     ]
    }
   ],
   "source": [
    "# Difference\n",
    "\n",
    "set1 = {\"Vummethala\",\"Venkata\",\"Sri\"}\n",
    "set2 = {\"Sri\",\"Datta\",\"Charan\"}\n",
    "set3 = set1.difference(set2)\n",
    "print(f\"{set1} Minus {set2} = {set3}\")"
   ]
  },
  {
   "cell_type": "code",
   "execution_count": 18,
   "metadata": {},
   "outputs": [
    {
     "name": "stdout",
     "output_type": "stream",
     "text": [
      "Symmetric difference of {'Vummethala', 'Venkata', 'Sri'} and {'Datta', 'Charan', 'Sri'} = {'Charan', 'Vummethala', 'Venkata', 'Datta'}\n"
     ]
    }
   ],
   "source": [
    "# Symmetric difference\n",
    "\n",
    "set1 = {\"Vummethala\",\"Venkata\",\"Sri\"}\n",
    "set2 = {\"Sri\",\"Datta\",\"Charan\"}\n",
    "set3 = set1.symmetric_difference(set2)\n",
    "print(f\"Symmetric difference of {set1} and {set2} = {set3}\")"
   ]
  },
  {
   "cell_type": "markdown",
   "metadata": {},
   "source": [
    "### Dictionary\n",
    "A dictionary can be used to store an unordered collection of key-value pairs.The key will be unique and can be of any data type. <br>\n",
    "Dictionaries are MUTABLE just like lists and set."
   ]
  },
  {
   "cell_type": "code",
   "execution_count": 19,
   "metadata": {},
   "outputs": [],
   "source": [
    "my_dictionary = {\n",
    "    \"name\" : \"Charan\",\n",
    "    \"surname\" : \"Vummethala\",\n",
    "    \"middle_name\" : \"Venkata Sri Datta\"\n",
    "}"
   ]
  },
  {
   "cell_type": "code",
   "execution_count": 21,
   "metadata": {},
   "outputs": [
    {
     "name": "stdout",
     "output_type": "stream",
     "text": [
      "Using get method, name : Charan\n",
      "Accessing value using key : Charan\n"
     ]
    }
   ],
   "source": [
    "# Accessing data from dictionary\n",
    "\n",
    "print(f\"Using get method, name : {my_dictionary.get(\"name\")}\")\n",
    "print(f\"Accessing value using key : {my_dictionary['name']}\")"
   ]
  },
  {
   "cell_type": "code",
   "execution_count": 22,
   "metadata": {},
   "outputs": [
    {
     "name": "stdout",
     "output_type": "stream",
     "text": [
      "name -> Charan\n",
      "surname -> Vummethala\n",
      "middle_name -> Venkata Sri Datta\n"
     ]
    }
   ],
   "source": [
    "# Finding all key value pairs in dictionary\n",
    "\n",
    "for key,value in my_dictionary.items():\n",
    "    print(f\"{key} -> {value}\")"
   ]
  },
  {
   "cell_type": "code",
   "execution_count": 23,
   "metadata": {},
   "outputs": [
    {
     "name": "stdout",
     "output_type": "stream",
     "text": [
      "name -> Charan\n",
      "surname -> Vummethala\n",
      "middle_name -> Venkata Sri Datta\n"
     ]
    }
   ],
   "source": [
    "# Finding all keys and their values using keys() method\n",
    "\n",
    "for key in my_dictionary.keys():\n",
    "    print(f\"{key} -> {my_dictionary.get(key)}\")"
   ]
  },
  {
   "cell_type": "code",
   "execution_count": 24,
   "metadata": {},
   "outputs": [
    {
     "name": "stdout",
     "output_type": "stream",
     "text": [
      "Charan\n",
      "Vummethala\n",
      "Venkata Sri Datta\n"
     ]
    }
   ],
   "source": [
    "# Obtaining only values\n",
    "\n",
    "for value in my_dictionary.values():\n",
    "    print(value)"
   ]
  },
  {
   "cell_type": "code",
   "execution_count": 29,
   "metadata": {},
   "outputs": [
    {
     "name": "stdout",
     "output_type": "stream",
     "text": [
      "Before adding coach : {'batsman': 'Sachin Tendulkar', 'bowler': 'Glenn McGrath', 'fielder': 'Jonty Rhodes', 'Keeper': 'Gilchrist'}\n",
      "After adding the coach : {'batsman': 'Sachin Tendulkar', 'bowler': 'Glenn McGrath', 'fielder': 'Jonty Rhodes', 'Keeper': 'Gilchrist', 'coach': 'Gary Kirsten'}\n"
     ]
    }
   ],
   "source": [
    "# Updating dictionary\n",
    "\n",
    "cricketer_dictionary = {\n",
    "    \"batsman\" : \"Sachin Tendulkar\",\n",
    "    \"bowler\" : \"Glenn McGrath\",\n",
    "    \"fielder\" : \"Jonty Rhodes\",\n",
    "    \"Keeper\" : \"Gilchrist\"\n",
    "}\n",
    "\n",
    "# If key value is not in dictionary, it will be added\n",
    "print(f\"Before adding coach : {cricketer_dictionary}\")\n",
    "cricketer_dictionary.update({\"coach\":\"Gary Kirsten\"})\n",
    "print(f\"After adding the coach : {cricketer_dictionary}\")"
   ]
  },
  {
   "cell_type": "code",
   "execution_count": 30,
   "metadata": {},
   "outputs": [
    {
     "name": "stdout",
     "output_type": "stream",
     "text": [
      "After over-riding values and adding new key value pairs \n",
      " : {'batsman': 'Kohli', 'bowler': 'Bumrah', 'fielder': 'Glenn Philips', 'Keeper': 'Gilchrist', 'coach': 'Gary Kirsten', 'captain': 'Rohit'}\n"
     ]
    }
   ],
   "source": [
    "# If key value is already present, then value will be over-ridden\n",
    "\n",
    "cricketer_dictionary.update({\"batsman\":\"Kohli\",\"captain\":\"Rohit\",\"bowler\":\"Bumrah\",\"fielder\":\"Glenn Philips\"})\n",
    "print(f\"After over-riding values and adding new key value pairs \\n : {cricketer_dictionary}\")"
   ]
  }
 ],
 "metadata": {
  "kernelspec": {
   "display_name": "Python 3",
   "language": "python",
   "name": "python3"
  },
  "language_info": {
   "codemirror_mode": {
    "name": "ipython",
    "version": 3
   },
   "file_extension": ".py",
   "mimetype": "text/x-python",
   "name": "python",
   "nbconvert_exporter": "python",
   "pygments_lexer": "ipython3",
   "version": "3.12.6"
  }
 },
 "nbformat": 4,
 "nbformat_minor": 2
}
