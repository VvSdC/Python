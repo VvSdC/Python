{
 "cells": [
  {
   "cell_type": "markdown",
   "metadata": {},
   "source": [
    "### Control structures\n",
    "\n",
    "Control structures are used to control the flow of execution in a program. Sometimes, it is required to skip few statements based on the logic but in some cases, some set of statements must be executed repeatedly until certain condition is met."
   ]
  },
  {
   "cell_type": "code",
   "execution_count": 5,
   "metadata": {},
   "outputs": [
    {
     "name": "stdout",
     "output_type": "stream",
     "text": [
      "Number1 and integer conversion of Number2 are equal\n"
     ]
    }
   ],
   "source": [
    "# If-else conditional\n",
    "\n",
    "number1 = 14\n",
    "number2 = \"14\"\n",
    "\n",
    "if number1 == number2:\n",
    "    print(\"Both are equal\")\n",
    "elif number1 > int(number2):\n",
    "    print(\"Number 1 is grater\")\n",
    "elif number1 < int(number2):\n",
    "    print(\"Integer conversion of Number2 is greater\")\n",
    "else:\n",
    "    print(\"Number1 and integer conversion of Number2 are equal\")"
   ]
  },
  {
   "cell_type": "code",
   "execution_count": null,
   "metadata": {},
   "outputs": [
    {
     "name": "stdout",
     "output_type": "stream",
     "text": [
      "1 2 3 4 5 6 7 "
     ]
    }
   ],
   "source": [
    "# For loop\n",
    "\n",
    "for number in 1,2,3,4,5,6,7:\n",
    "    print(number,end=\" \")"
   ]
  },
  {
   "cell_type": "code",
   "execution_count": 7,
   "metadata": {},
   "outputs": [
    {
     "name": "stdout",
     "output_type": "stream",
     "text": [
      "1 3 5 7 9 "
     ]
    }
   ],
   "source": [
    "# Variation of for loop\n",
    "\n",
    "start = 1\n",
    "end = 10\n",
    "jump_size = 2\n",
    "\n",
    "for number in range(start,end,jump_size):\n",
    "    print(number,end=\" \")"
   ]
  },
  {
   "cell_type": "code",
   "execution_count": 8,
   "metadata": {},
   "outputs": [
    {
     "name": "stdout",
     "output_type": "stream",
     "text": [
      "0 1 2 3 4 5 6 7 8 9 This will only be executed if for loop is NOT terminated by break statement\n"
     ]
    }
   ],
   "source": [
    "# For-else group\n",
    "\n",
    "for i in range(10):\n",
    "    print(i,end=\" \")\n",
    "else:\n",
    "    print(\"This will only be executed if for loop is NOT terminated by break statement\")"
   ]
  },
  {
   "cell_type": "code",
   "execution_count": 9,
   "metadata": {},
   "outputs": [
    {
     "name": "stdout",
     "output_type": "stream",
     "text": [
      "0 1 2 3 4 5 6 7 8 9 10 "
     ]
    }
   ],
   "source": [
    "# While\n",
    "\n",
    "index = 0\n",
    "\n",
    "while index <= 10:\n",
    "    print(index,end=\" \")\n",
    "    index = index + 1"
   ]
  },
  {
   "cell_type": "code",
   "execution_count": null,
   "metadata": {},
   "outputs": [],
   "source": [
    "# While-else\n",
    "\n",
    "index = 0\n",
    "\n",
    "while index <= 10:\n",
    "    print(index,end=\" \")\n",
    "    index=index + 1\n",
    "else:\n",
    "    print(\"This will be executed only if while loop is NOT terminated by break statement\")"
   ]
  }
 ],
 "metadata": {
  "kernelspec": {
   "display_name": "Python 3",
   "language": "python",
   "name": "python3"
  },
  "language_info": {
   "codemirror_mode": {
    "name": "ipython",
    "version": 3
   },
   "file_extension": ".py",
   "mimetype": "text/x-python",
   "name": "python",
   "nbconvert_exporter": "python",
   "pygments_lexer": "ipython3",
   "version": "3.12.6"
  }
 },
 "nbformat": 4,
 "nbformat_minor": 2
}
