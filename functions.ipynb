{
 "cells": [
  {
   "cell_type": "code",
   "execution_count": null,
   "metadata": {},
   "outputs": [
    {
     "name": "stdout",
     "output_type": "stream",
     "text": [
      "True\n"
     ]
    }
   ],
   "source": [
    "# Function\n",
    "# credit_card_number is a formal argument\n",
    "def validate_using_luhn(credit_card_number: str):\n",
    "    credit_card_number = credit_card_number.replace(\"-\",\"\").replace(\" \",\"\")\n",
    "    credit_card_digits = [int(digit) for digit in credit_card_number][::-1]\n",
    "    check_sum = 0\n",
    "\n",
    "    for index,digit in enumerate(credit_card_digits):\n",
    "        if index%2 == 1:\n",
    "            digit = digit*2\n",
    "            if digit > 9:\n",
    "                digit -= 9\n",
    "            check_sum += digit\n",
    "        else:\n",
    "            check_sum += digit\n",
    "    \n",
    "    return check_sum%10 == 0\n",
    "\n",
    "\n",
    "# Function call\n",
    "# 4111 1111 1111 1111 is real argument\n",
    "valid_credit_card = validate_using_luhn(\"4111 1111 1111 1111\")\n",
    "print(valid_credit_card)\n"
   ]
  },
  {
   "cell_type": "markdown",
   "metadata": {},
   "source": [
    "### Pass by value and Pass by reference\n",
    "\n",
    "In python, we don't have to think about pass by value and pass by reference because it does that automatically. This depends on mutability of the data that is sent as argument. If the argument passed is immutable then it is passed by value, otherwise it is passed by reference."
   ]
  },
  {
   "cell_type": "code",
   "execution_count": 4,
   "metadata": {},
   "outputs": [
    {
     "name": "stdout",
     "output_type": "stream",
     "text": [
      "Before calling function : 10\n",
      "Inside function : 30 \n",
      "After execution of function : 10\n"
     ]
    }
   ],
   "source": [
    "# Pass by value\n",
    "# Here we pass immutable data\n",
    "\n",
    "def add_20(number: int):\n",
    "    number += 20\n",
    "    print(f\"Inside function : {number} \")\n",
    "\n",
    "\n",
    "number = 10\n",
    "print(f\"Before calling function : {number}\")\n",
    "add_20(number)\n",
    "print(f\"After execution of function : {number}\")"
   ]
  },
  {
   "cell_type": "code",
   "execution_count": 5,
   "metadata": {},
   "outputs": [
    {
     "name": "stdout",
     "output_type": "stream",
     "text": [
      "Before calling the function : [0, 10, 20, 30]\n",
      "Inside function : [0, 10, 20, 30, 40, 50]\n",
      "After execution of function : [0, 10, 20, 30, 40, 50]\n"
     ]
    }
   ],
   "source": [
    "# Pass by reference\n",
    "# Here we pass mutable data\n",
    "\n",
    "def add_new_elements(arr: list[int]):\n",
    "    arr.append(40)\n",
    "    arr.append(50)\n",
    "    print(f\"Inside function : {arr}\")\n",
    "\n",
    "arr = [0,10,20,30]\n",
    "print(f\"Before calling the function : {arr}\")\n",
    "add_new_elements(arr)\n",
    "print(f\"After execution of function : {arr}\")"
   ]
  },
  {
   "cell_type": "code",
   "execution_count": 6,
   "metadata": {},
   "outputs": [
    {
     "name": "stdout",
     "output_type": "stream",
     "text": [
      "7\n"
     ]
    }
   ],
   "source": [
    "# Positional parameters\n",
    "\n",
    "def add_numbers(number1:int,number2:int):\n",
    "    return number1+number2\n",
    "\n",
    "print(add_numbers(3,4))"
   ]
  },
  {
   "cell_type": "code",
   "execution_count": 7,
   "metadata": {},
   "outputs": [
    {
     "name": "stdout",
     "output_type": "stream",
     "text": [
      "1\n",
      "-1\n"
     ]
    }
   ],
   "source": [
    "# Keywords\n",
    "\n",
    "def subtract_numbers(number1:int,number2:int):\n",
    "    return number1-number2\n",
    "\n",
    "print(subtract_numbers(number1=4,number2=3))\n",
    "print(subtract_numbers(number2=4,number1=3))"
   ]
  },
  {
   "cell_type": "code",
   "execution_count": 9,
   "metadata": {},
   "outputs": [
    {
     "name": "stdout",
     "output_type": "stream",
     "text": [
      "1\n",
      "4\n"
     ]
    }
   ],
   "source": [
    "# Default value parameters\n",
    "\n",
    "def subtract_numbers(number1:int,number2:int=0):\n",
    "    return number1-number2\n",
    "\n",
    "print(subtract_numbers(4,3))   # Does 4-3 because second argument is given\n",
    "print(subtract_numbers(4))     # Does 4-0 because second argument is not passed so it takes deault value 0 as given "
   ]
  },
  {
   "cell_type": "code",
   "execution_count": 14,
   "metadata": {},
   "outputs": [
    {
     "name": "stdout",
     "output_type": "stream",
     "text": [
      "3\n",
      "25\n"
     ]
    }
   ],
   "source": [
    "# Variable argument count\n",
    "\n",
    "def add_numbers(number1,*numbers):\n",
    "    sum = number1\n",
    "    for number in numbers:\n",
    "        sum += number\n",
    "    return sum\n",
    "\n",
    "print(add_numbers(3))   # Returns 3 \n",
    "print(add_numbers(3,4,5,6,7))   # Returns 3+4+5+6+7\n"
   ]
  },
  {
   "cell_type": "code",
   "execution_count": 15,
   "metadata": {},
   "outputs": [
    {
     "name": "stdout",
     "output_type": "stream",
     "text": [
      "First name : Vummethala\n",
      "Middle name : Venkata Sri Datta\n",
      "Last name : Charan\n"
     ]
    }
   ],
   "source": [
    "# Keywords argument\n",
    "\n",
    "def print_dictionary(**kwargs):\n",
    "    print(f\"First name : {kwargs['first_name']}\")\n",
    "    print(f\"Middle name : {kwargs['middle_name']}\")\n",
    "    print(f\"Last name : {kwargs['last_name']}\")\n",
    "\n",
    "\n",
    "dictionary = {\"first_name\":\"Vummethala\",\"middle_name\":\"Venkata Sri Datta\",\"last_name\":\"Charan\"}\n",
    "print_dictionary(**dictionary)"
   ]
  }
 ],
 "metadata": {
  "kernelspec": {
   "display_name": "Python 3",
   "language": "python",
   "name": "python3"
  },
  "language_info": {
   "codemirror_mode": {
    "name": "ipython",
    "version": 3
   },
   "file_extension": ".py",
   "mimetype": "text/x-python",
   "name": "python",
   "nbconvert_exporter": "python",
   "pygments_lexer": "ipython3",
   "version": "3.12.6"
  }
 },
 "nbformat": 4,
 "nbformat_minor": 2
}
