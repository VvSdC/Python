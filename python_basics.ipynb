{
 "cells": [
  {
   "cell_type": "markdown",
   "metadata": {},
   "source": [
    "### Dynamically typed property of python"
   ]
  },
  {
   "cell_type": "code",
   "execution_count": 7,
   "metadata": {},
   "outputs": [
    {
     "name": "stdout",
     "output_type": "stream",
     "text": [
      "<class 'float'>\n",
      "<class 'int'>\n"
     ]
    }
   ],
   "source": [
    "score = 65.2    # float\n",
    "print(type(score))\n",
    "\n",
    "score = 72      # int\n",
    "print(type(score))"
   ]
  },
  {
   "cell_type": "markdown",
   "metadata": {},
   "source": [
    "### Input and print statements"
   ]
  },
  {
   "cell_type": "code",
   "execution_count": 8,
   "metadata": {},
   "outputs": [
    {
     "name": "stdout",
     "output_type": "stream",
     "text": [
      "33\n",
      "<class 'str'>\n"
     ]
    }
   ],
   "source": [
    "# Input\n",
    "\n",
    "input_var = input(\"Enter your age\")\n",
    "print(input_var)\n",
    "print(type(input_var))   # Python always takes input in the form of string"
   ]
  },
  {
   "cell_type": "code",
   "execution_count": 9,
   "metadata": {},
   "outputs": [
    {
     "name": "stdout",
     "output_type": "stream",
     "text": [
      "Charan VSD Vummethala\n",
      "Charan:VSD:Vummethala\n",
      "Charan VSD Vummethala Charan VSD Vummethala\n",
      "number=14.16\n"
     ]
    }
   ],
   "source": [
    "#Print\n",
    "\n",
    "value_a = \"Charan\"\n",
    "value_b = \"VSD\"\n",
    "value_c = \"Vummethala\"\n",
    "number = 14.164\n",
    "\n",
    "print(value_a,value_b,value_c)  # Prints all strings separated by space\n",
    "print(value_a,value_b,value_c,sep=\":\")  # Prints all strings separated by :\n",
    "print(value_a,value_b,value_c,end=\" \")  #Prints all string separated by space\n",
    "print(value_a,value_b,value_c)   # Prints in the previous line after space because last line ended with \" \" and not \"\\n\"\n",
    "print(\"number=%0.2f\" %number)  # Prints number = 14.16 since f represents floating number and 0.2 means two decimal digits"
   ]
  },
  {
   "cell_type": "code",
   "execution_count": 2,
   "metadata": {},
   "outputs": [
    {
     "name": "stdout",
     "output_type": "stream",
     "text": [
      "c=     164\n",
      "c=164     \n"
     ]
    }
   ],
   "source": [
    "# Right and Left aligned\n",
    "\n",
    "number = 164\n",
    "print(\"c=%8d\" %number)  # Prints right aligned number with reserved 8 spaces\n",
    "print(\"c=%-8d\" %number) # Prints left aligned number with reserved 8 spaces\n"
   ]
  },
  {
   "cell_type": "markdown",
   "metadata": {},
   "source": [
    "### Type conversions\n",
    "\n",
    "Python doesn't support implicit type conversions i.e it doesn't convert data type of one variable to other when some operation between two data types are performed. However, we can perform explicit type conversions and convert data type of one variable to other"
   ]
  },
  {
   "cell_type": "code",
   "execution_count": 7,
   "metadata": {},
   "outputs": [
    {
     "data": {
      "text/plain": [
       "178"
      ]
     },
     "execution_count": 7,
     "metadata": {},
     "output_type": "execute_result"
    }
   ],
   "source": [
    "number1 = 164\n",
    "number2 = \"14\"\n",
    "\n",
    "# number1 + number2    # Throws error\n",
    "number1 + int(number2) # Converts data type of number1 from string to integer"
   ]
  }
 ],
 "metadata": {
  "kernelspec": {
   "display_name": "Python 3",
   "language": "python",
   "name": "python3"
  },
  "language_info": {
   "codemirror_mode": {
    "name": "ipython",
    "version": 3
   },
   "file_extension": ".py",
   "mimetype": "text/x-python",
   "name": "python",
   "nbconvert_exporter": "python",
   "pygments_lexer": "ipython3",
   "version": "3.12.6"
  }
 },
 "nbformat": 4,
 "nbformat_minor": 2
}
