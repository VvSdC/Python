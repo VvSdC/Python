{
 "cells": [
  {
   "cell_type": "markdown",
   "metadata": {},
   "source": [
    "### Random module\n",
    "\n",
    "This module helps in generating random numbers."
   ]
  },
  {
   "cell_type": "code",
   "execution_count": null,
   "metadata": {},
   "outputs": [
    {
     "name": "stdout",
     "output_type": "stream",
     "text": [
      "10\n"
     ]
    }
   ],
   "source": [
    "# randrange(start,end)\n",
    "# generates a random integer between x and y (x inclusive and y exclusive)\n",
    "\n",
    "import random\n",
    "\n",
    "print(random.randrange(10,14))"
   ]
  },
  {
   "cell_type": "markdown",
   "metadata": {},
   "source": [
    "### Math module"
   ]
  },
  {
   "cell_type": "code",
   "execution_count": 8,
   "metadata": {},
   "outputs": [
    {
     "name": "stdout",
     "output_type": "stream",
     "text": [
      "Ceil of 4.51 is : 5\n",
      "Ceil of 4.001 is : 5\n",
      "Ceil of 4.98 is : 5\n",
      "Ceil of 4.50 is : 5\n"
     ]
    }
   ],
   "source": [
    "# Ceil\n",
    "# It is the smallest integer greater than or equal to number.\n",
    "import math\n",
    "\n",
    "print(f\"Ceil of 4.51 is : {math.ceil(4.51)}\")\n",
    "print(f\"Ceil of 4.001 is : {math.ceil(4.001)}\")\n",
    "print(f\"Ceil of 4.98 is : {math.ceil(4.98)}\")\n",
    "print(f\"Ceil of 4.50 is : {math.ceil(4.50)}\")"
   ]
  },
  {
   "cell_type": "code",
   "execution_count": 10,
   "metadata": {},
   "outputs": [
    {
     "name": "stdout",
     "output_type": "stream",
     "text": [
      "Floor of 4.51 is : 4\n",
      "Floor of 4.001 is : 4\n",
      "Floor of 4.98 is : 4\n",
      "Floor of 4.50 is : 4\n"
     ]
    }
   ],
   "source": [
    "# Floor \n",
    "# It is the largest smaller than or equal to number.\n",
    "\n",
    "print(f\"Floor of 4.51 is : {math.floor(4.51)}\")\n",
    "print(f\"Floor of 4.001 is : {math.floor(4.001)}\")\n",
    "print(f\"Floor of 4.98 is : {math.floor(4.98)}\")\n",
    "print(f\"Floor of 4.50 is : {math.floor(4.50)}\")"
   ]
  },
  {
   "cell_type": "code",
   "execution_count": 11,
   "metadata": {},
   "outputs": [
    {
     "name": "stdout",
     "output_type": "stream",
     "text": [
      "Absolute value of -5.6 is 5.6\n",
      "Absolute value of -0.1 is 0.1\n",
      "Absolute value of 2.3 is 2.3\n"
     ]
    }
   ],
   "source": [
    "# Absolute value\n",
    "# Gives absolute value of a number\n",
    "\n",
    "print(f\"Absolute value of -5.6 is {math.fabs(-5.6)}\")\n",
    "print(f\"Absolute value of -0.1 is {math.fabs(-0.1)}\")\n",
    "print(f\"Absolute value of 2.3 is {math.fabs(2.3)}\")"
   ]
  }
 ],
 "metadata": {
  "kernelspec": {
   "display_name": "Python 3",
   "language": "python",
   "name": "python3"
  },
  "language_info": {
   "codemirror_mode": {
    "name": "ipython",
    "version": 3
   },
   "file_extension": ".py",
   "mimetype": "text/x-python",
   "name": "python",
   "nbconvert_exporter": "python",
   "pygments_lexer": "ipython3",
   "version": "3.12.6"
  }
 },
 "nbformat": 4,
 "nbformat_minor": 2
}
