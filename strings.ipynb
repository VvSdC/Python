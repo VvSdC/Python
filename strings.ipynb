{
 "cells": [
  {
   "cell_type": "markdown",
   "metadata": {},
   "source": [
    "### String\n",
    "String is a data type in a python which is just a collection of characters. <br>\n",
    "All operations of strings are similar to lists except that the strings are IMMUTABLE."
   ]
  },
  {
   "cell_type": "code",
   "execution_count": 4,
   "metadata": {},
   "outputs": [
    {
     "name": "stdout",
     "output_type": "stream",
     "text": [
      "Number of a's in Charan -> 2\n"
     ]
    }
   ],
   "source": [
    "# Count method\n",
    "name = \"Charan\"\n",
    "print(f\"Number of a's in {name} -> {name.count('a')}\")"
   ]
  },
  {
   "cell_type": "code",
   "execution_count": 5,
   "metadata": {},
   "outputs": [
    {
     "name": "stdout",
     "output_type": "stream",
     "text": [
      "First occurence of a in Charan -> 2 \n",
      "First occurence of z in Charan -> -1 \n",
      "First occurence of ra in Charan -> 3\n"
     ]
    }
   ],
   "source": [
    "# Find method\n",
    "# Used to find first index of occurence of a substring\n",
    "# Returns -1 is substring is not found\n",
    "print(f\"First occurence of a in {name} -> {name.find(\"a\")} \")\n",
    "print(f\"First occurence of z in {name} -> {name.find(\"z\")} \")\n",
    "print(f\"First occurence of ra in {name} -> {name.find(\"ra\")}\")"
   ]
  },
  {
   "cell_type": "code",
   "execution_count": null,
   "metadata": {},
   "outputs": [
    {
     "name": "stdout",
     "output_type": "stream",
     "text": [
      "Value of name = Charan\n",
      "Value of changed_name = ChaRan\n"
     ]
    }
   ],
   "source": [
    "# Replace method\n",
    "changed_name = name.replace('r','R')\n",
    "\n",
    "# Since string is immutable, name.replace() method will not actually change its value\n",
    "print(f\"Value of name = {name}\")\n",
    "print(f\"Value of changed_name = {changed_name}\")"
   ]
  },
  {
   "cell_type": "code",
   "execution_count": 9,
   "metadata": {},
   "outputs": [
    {
     "name": "stdout",
     "output_type": "stream",
     "text": [
      "Name starts with Ch ? True\n",
      "Name starts with ch ? False\n",
      "Name ends with An ? False\n",
      "Name ends with an ? True\n"
     ]
    }
   ],
   "source": [
    "# Starts with and ends with\n",
    "# It is case sensitive\n",
    "\n",
    "name = \"Charan\"\n",
    "print(f\"Name starts with Ch ? {name.startswith(\"Ch\")}\")\n",
    "print(f\"Name starts with ch ? {name.startswith(\"ch\")}\")\n",
    "\n",
    "print(f\"Name ends with An ? {name.endswith(\"An\")}\")\n",
    "print(f\"Name ends with an ? {name.endswith(\"an\")}\")"
   ]
  },
  {
   "cell_type": "code",
   "execution_count": 6,
   "metadata": {},
   "outputs": [
    {
     "name": "stdout",
     "output_type": "stream",
     "text": [
      "Is '9' a digit ? True\n",
      "Is A a digit ? False\n",
      "Is '10' a digit ? True\n",
      "Is '1000' a digit or not ? True\n",
      "Is '100 0' a digit or not ? False\n"
     ]
    }
   ],
   "source": [
    "# Is digit method\n",
    "# Checks whether a string contains only digits or not\n",
    "# Returns False if atleast one character is not a digit\n",
    "\n",
    "print(f\"Is '9' a digit ? {\"9\".isdigit()}\")\n",
    "print(f\"Is A a digit ? {\"A\".isdigit()}\")\n",
    "print(f\"Is '10' a digit ? {\"10\".isdigit()}\")\n",
    "print(f\"Is '1000' a digit or not ? {\"1000\".isdigit()}\")\n",
    "print(f\"Is '100 0' a digit or not ? {\"100 0\".isdigit()}\")"
   ]
  },
  {
   "cell_type": "code",
   "execution_count": 7,
   "metadata": {},
   "outputs": [
    {
     "name": "stdout",
     "output_type": "stream",
     "text": [
      "Before using lower method, name = Vummethala Venkata Sri Datta Charan\n",
      "After using lower method, name = Vummethala Venkata Sri Datta Charan\n",
      "Lower format of name : vummethala venkata sri datta charan\n"
     ]
    }
   ],
   "source": [
    "# Upper and Lower methods\n",
    "# Since string is IMMUTABLE original string will not be changed.\n",
    "# We must store the value in other string\n",
    "\n",
    "name = \"Vummethala Venkata Sri Datta Charan\"\n",
    "print(f\"Before using lower method, name = {name}\")\n",
    "lower_name = name.lower()\n",
    "print(f\"After using lower method, name = {name}\")\n",
    "print(f\"Lower format of name : {lower_name}\")"
   ]
  },
  {
   "cell_type": "code",
   "execution_count": 8,
   "metadata": {},
   "outputs": [
    {
     "name": "stdout",
     "output_type": "stream",
     "text": [
      "['Ch', 'r', 'n']\n"
     ]
    }
   ],
   "source": [
    "# Split method\n",
    "\n",
    "name = \"Charan\"\n",
    "print(name.split(\"a\"))"
   ]
  }
 ],
 "metadata": {
  "kernelspec": {
   "display_name": "Python 3",
   "language": "python",
   "name": "python3"
  },
  "language_info": {
   "codemirror_mode": {
    "name": "ipython",
    "version": 3
   },
   "file_extension": ".py",
   "mimetype": "text/x-python",
   "name": "python",
   "nbconvert_exporter": "python",
   "pygments_lexer": "ipython3",
   "version": "3.12.6"
  }
 },
 "nbformat": 4,
 "nbformat_minor": 2
}
