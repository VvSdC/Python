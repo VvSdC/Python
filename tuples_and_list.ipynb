{
 "cells": [
  {
   "cell_type": "markdown",
   "metadata": {},
   "source": [
    "### Tuples\n",
    "\n",
    "Tuples can also store a sequence of elements like list, but the values of individual elements cannot be changed i.e tuples are IMMUTABLE.\n",
    "Elements in tuple can be homogeneous or heterogeneous but are only READ-ONLY."
   ]
  },
  {
   "cell_type": "code",
   "execution_count": 1,
   "metadata": {},
   "outputs": [
    {
     "name": "stdout",
     "output_type": "stream",
     "text": [
      "<class 'tuple'>\n"
     ]
    }
   ],
   "source": [
    "# With ()\n",
    "\n",
    "cricketer_types = (\"Batsman\",\"Bowler\",\"Keeper\",\"Fielder\")\n",
    "print(type(cricketer_types))"
   ]
  },
  {
   "cell_type": "code",
   "execution_count": 2,
   "metadata": {},
   "outputs": [
    {
     "name": "stdout",
     "output_type": "stream",
     "text": [
      "<class 'tuple'>\n"
     ]
    }
   ],
   "source": [
    "# Without ()\n",
    "\n",
    "cricketer_types = \"Batsman\",\"Bowler\",\"Keeper\",\"Fielder\"\n",
    "print(type(cricketer_types))"
   ]
  },
  {
   "cell_type": "code",
   "execution_count": 4,
   "metadata": {},
   "outputs": [
    {
     "name": "stdout",
     "output_type": "stream",
     "text": [
      "Values in tuples cannot be changed\n"
     ]
    }
   ],
   "source": [
    "try:\n",
    "    cricketer_types[0] = \"All rounder\"\n",
    "except TypeError:\n",
    "    print(\"Values in tuples cannot be changed\")"
   ]
  },
  {
   "cell_type": "code",
   "execution_count": 3,
   "metadata": {},
   "outputs": [
    {
     "name": "stdout",
     "output_type": "stream",
     "text": [
      "(1, 2, 3, 4, 5)\n",
      "(1, 3, 4, 5)\n"
     ]
    }
   ],
   "source": [
    "# Printing the tuple\n",
    "# () will be printed as well\n",
    "\n",
    "my_tuple = (1,2,3,4,5)\n",
    "print(my_tuple)\n",
    "\n",
    "my_tuple = 1,3,4,5\n",
    "print(my_tuple)"
   ]
  },
  {
   "cell_type": "markdown",
   "metadata": {},
   "source": [
    "### List\n",
    "\n",
    "List can be used to store a group of elements together in a sequence. \n",
    "In list, elements will be stored in contiguous memory locations."
   ]
  },
  {
   "cell_type": "code",
   "execution_count": 1,
   "metadata": {},
   "outputs": [
    {
     "name": "stdout",
     "output_type": "stream",
     "text": [
      "Empty list is []\n",
      "Empty list is []\n"
     ]
    }
   ],
   "source": [
    "empty_list = []\n",
    "print(f\"Empty list is {empty_list}\")\n",
    "\n",
    "empty_list = list()\n",
    "print(f\"Empty list is {empty_list}\")"
   ]
  },
  {
   "cell_type": "code",
   "execution_count": 3,
   "metadata": {},
   "outputs": [
    {
     "name": "stdout",
     "output_type": "stream",
     "text": [
      "Known list is : ['Vummethala', 'Venkata', 'Charan']\n",
      "Known list is : ['Vummethala', 'Venkata', 'Charan']\n"
     ]
    }
   ],
   "source": [
    "known_elements = [\"Vummethala\",\"Venkata\",\"Charan\"]\n",
    "print(f\"Known list is : {known_elements}\")\n",
    "\n",
    "known_elements = list((\"Vummethala\",\"Venkata\",\"Charan\"))\n",
    "print(f\"Known list is : {known_elements}\")"
   ]
  },
  {
   "cell_type": "code",
   "execution_count": 4,
   "metadata": {},
   "outputs": [
    {
     "name": "stdout",
     "output_type": "stream",
     "text": [
      "Sized list : ['Charan', 'Charan', 'Charan', 'Charan', 'Charan']\n"
     ]
    }
   ],
   "source": [
    "sized_list = [\"Charan\"]*5\n",
    "print(f\"Sized list : {sized_list}\")"
   ]
  },
  {
   "cell_type": "code",
   "execution_count": 10,
   "metadata": {},
   "outputs": [
    {
     "name": "stdout",
     "output_type": "stream",
     "text": [
      "my_list[3:4] : [3]\n",
      "my_list[1:] : [1, 2, 3, 4, 5]\n",
      "my_list[:3] : [0, 1, 2]\n",
      "my_list[3:3] : []\n"
     ]
    }
   ],
   "source": [
    "# Slicing list\n",
    "# list_name[start:end] => start index is inclusive and end index is exclusive\n",
    "# If start index is greater than or equal to end index, then it will return empty list\n",
    "\n",
    "my_list = [0,1,2,3,4,5]\n",
    "print(f\"my_list[3:4] : {my_list[3:4]}\")\n",
    "print(f\"my_list[1:] : {my_list[1:]}\")\n",
    "print(f\"my_list[:3] : {my_list[:3]}\")\n",
    "print(f\"my_list[3:3] : {my_list[3:3]}\")\n"
   ]
  },
  {
   "cell_type": "code",
   "execution_count": 9,
   "metadata": {},
   "outputs": [
    {
     "name": "stdout",
     "output_type": "stream",
     "text": [
      "my_list[-4:-1] : [2, 3, 4]\n",
      "my_list[-1:-4] : []\n"
     ]
    }
   ],
   "source": [
    "# Slicing with negative indices\n",
    "# In this case -index will be len(list)-index\n",
    "\n",
    "my_list = [0,1,2,3,4,5]\n",
    "print(f\"my_list[-4:-1] : {my_list[-4:-1]}\")\n",
    "print(f\"my_list[-1:-4] : {my_list[-1:-4]}\")"
   ]
  },
  {
   "cell_type": "markdown",
   "metadata": {},
   "source": [
    "### List Methods"
   ]
  },
  {
   "cell_type": "code",
   "execution_count": 13,
   "metadata": {},
   "outputs": [
    {
     "name": "stdout",
     "output_type": "stream",
     "text": [
      "Number 4 is at index : 3\n",
      "Element is not present in the array\n"
     ]
    }
   ],
   "source": [
    "# Index method\n",
    "# arr.index(element) will return index of first occurence of element in arr\n",
    "# If element is not present in arr, then this method throws ValueError\n",
    "\n",
    "arr = [1,2,3,4,5,6,7]\n",
    "print(f\"Number 4 is at index : {arr.index(4)}\")  \n",
    "\n",
    "try:\n",
    "    print(f\"Number 10 is at index : {arr.index(10)}\")\n",
    "except ValueError:\n",
    "    print(\"Element is not present in the array\")"
   ]
  },
  {
   "cell_type": "code",
   "execution_count": 14,
   "metadata": {},
   "outputs": [
    {
     "name": "stdout",
     "output_type": "stream",
     "text": [
      "[2, 3, 4, 6, 7, 10]\n"
     ]
    }
   ],
   "source": [
    "# Sort method\n",
    "# Sorts the list in ascending order\n",
    "\n",
    "my_list = [7,2,3,10,6,4]\n",
    "my_list.sort()\n",
    "\n",
    "print(my_list)"
   ]
  }
 ],
 "metadata": {
  "kernelspec": {
   "display_name": "Python 3",
   "language": "python",
   "name": "python3"
  },
  "language_info": {
   "codemirror_mode": {
    "name": "ipython",
    "version": 3
   },
   "file_extension": ".py",
   "mimetype": "text/x-python",
   "name": "python",
   "nbconvert_exporter": "python",
   "pygments_lexer": "ipython3",
   "version": "3.12.6"
  }
 },
 "nbformat": 4,
 "nbformat_minor": 2
}
